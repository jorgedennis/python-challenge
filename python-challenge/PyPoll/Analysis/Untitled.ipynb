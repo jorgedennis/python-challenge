{
 "cells": [
  {
   "cell_type": "code",
   "execution_count": 1,
   "id": "9fe04504-23ee-42a0-9e81-9bb55d80abc0",
   "metadata": {},
   "outputs": [],
   "source": [
    "import pandas as pd "
   ]
  },
  {
   "cell_type": "code",
   "execution_count": 6,
   "id": "449aa334-5ea7-45f2-a349-cf9457b86490",
   "metadata": {},
   "outputs": [
    {
     "data": {
      "text/html": [
       "<div>\n",
       "<style scoped>\n",
       "    .dataframe tbody tr th:only-of-type {\n",
       "        vertical-align: middle;\n",
       "    }\n",
       "\n",
       "    .dataframe tbody tr th {\n",
       "        vertical-align: top;\n",
       "    }\n",
       "\n",
       "    .dataframe thead th {\n",
       "        text-align: right;\n",
       "    }\n",
       "</style>\n",
       "<table border=\"1\" class=\"dataframe\">\n",
       "  <thead>\n",
       "    <tr style=\"text-align: right;\">\n",
       "      <th></th>\n",
       "      <th>Ballot ID</th>\n",
       "      <th>County</th>\n",
       "      <th>Candidate</th>\n",
       "    </tr>\n",
       "  </thead>\n",
       "  <tbody>\n",
       "    <tr>\n",
       "      <th>0</th>\n",
       "      <td>1323913</td>\n",
       "      <td>Jefferson</td>\n",
       "      <td>Charles Casper Stockham</td>\n",
       "    </tr>\n",
       "    <tr>\n",
       "      <th>1</th>\n",
       "      <td>1005842</td>\n",
       "      <td>Jefferson</td>\n",
       "      <td>Charles Casper Stockham</td>\n",
       "    </tr>\n",
       "    <tr>\n",
       "      <th>2</th>\n",
       "      <td>1880345</td>\n",
       "      <td>Jefferson</td>\n",
       "      <td>Charles Casper Stockham</td>\n",
       "    </tr>\n",
       "    <tr>\n",
       "      <th>3</th>\n",
       "      <td>1600337</td>\n",
       "      <td>Jefferson</td>\n",
       "      <td>Charles Casper Stockham</td>\n",
       "    </tr>\n",
       "    <tr>\n",
       "      <th>4</th>\n",
       "      <td>1835994</td>\n",
       "      <td>Jefferson</td>\n",
       "      <td>Charles Casper Stockham</td>\n",
       "    </tr>\n",
       "    <tr>\n",
       "      <th>...</th>\n",
       "      <td>...</td>\n",
       "      <td>...</td>\n",
       "      <td>...</td>\n",
       "    </tr>\n",
       "    <tr>\n",
       "      <th>369706</th>\n",
       "      <td>4714953</td>\n",
       "      <td>Arapahoe</td>\n",
       "      <td>Raymon Anthony Doane</td>\n",
       "    </tr>\n",
       "    <tr>\n",
       "      <th>369707</th>\n",
       "      <td>4497542</td>\n",
       "      <td>Arapahoe</td>\n",
       "      <td>Raymon Anthony Doane</td>\n",
       "    </tr>\n",
       "    <tr>\n",
       "      <th>369708</th>\n",
       "      <td>4085849</td>\n",
       "      <td>Arapahoe</td>\n",
       "      <td>Raymon Anthony Doane</td>\n",
       "    </tr>\n",
       "    <tr>\n",
       "      <th>369709</th>\n",
       "      <td>4592018</td>\n",
       "      <td>Arapahoe</td>\n",
       "      <td>Raymon Anthony Doane</td>\n",
       "    </tr>\n",
       "    <tr>\n",
       "      <th>369710</th>\n",
       "      <td>4660518</td>\n",
       "      <td>Arapahoe</td>\n",
       "      <td>Raymon Anthony Doane</td>\n",
       "    </tr>\n",
       "  </tbody>\n",
       "</table>\n",
       "<p>369711 rows × 3 columns</p>\n",
       "</div>"
      ],
      "text/plain": [
       "        Ballot ID     County                Candidate\n",
       "0         1323913  Jefferson  Charles Casper Stockham\n",
       "1         1005842  Jefferson  Charles Casper Stockham\n",
       "2         1880345  Jefferson  Charles Casper Stockham\n",
       "3         1600337  Jefferson  Charles Casper Stockham\n",
       "4         1835994  Jefferson  Charles Casper Stockham\n",
       "...           ...        ...                      ...\n",
       "369706    4714953   Arapahoe     Raymon Anthony Doane\n",
       "369707    4497542   Arapahoe     Raymon Anthony Doane\n",
       "369708    4085849   Arapahoe     Raymon Anthony Doane\n",
       "369709    4592018   Arapahoe     Raymon Anthony Doane\n",
       "369710    4660518   Arapahoe     Raymon Anthony Doane\n",
       "\n",
       "[369711 rows x 3 columns]"
      ]
     },
     "execution_count": 6,
     "metadata": {},
     "output_type": "execute_result"
    }
   ],
   "source": [
    "pypoll = pd.read_csv('/Users/jorgedennis/Downloads/python-challenge/PyPoll/Resources/election_data.csv')\n",
    "pypoll"
   ]
  },
  {
   "cell_type": "code",
   "execution_count": 7,
   "id": "e9cb57a6-4e2c-451c-8b6e-7a5e8efbcb8b",
   "metadata": {},
   "outputs": [
    {
     "data": {
      "text/plain": [
       "369711"
      ]
     },
     "execution_count": 7,
     "metadata": {},
     "output_type": "execute_result"
    }
   ],
   "source": [
    "# Find total votes \n",
    "\n",
    "total_votes = pypoll.shape[0]\n",
    "total_votes"
   ]
  },
  {
   "cell_type": "code",
   "execution_count": 66,
   "id": "00fe1c53-c9fe-4b27-b40d-68c1bac27ac6",
   "metadata": {},
   "outputs": [
    {
     "data": {
      "text/plain": [
       "Diana DeGette              272892\n",
       "Charles Casper Stockham     85213\n",
       "Raymon Anthony Doane        11606\n",
       "Name: Candidate, dtype: int64"
      ]
     },
     "execution_count": 66,
     "metadata": {},
     "output_type": "execute_result"
    }
   ],
   "source": [
    "# Stats\n",
    "\n",
    "stats = pypoll['Candidate'].value_counts()\n",
    "stats"
   ]
  },
  {
   "cell_type": "code",
   "execution_count": 62,
   "id": "e8d2a8ca-acf6-454f-b1e9-180144a15916",
   "metadata": {},
   "outputs": [
    {
     "data": {
      "text/plain": [
       "['Diana DeGette', 'Charles Casper Stockham', 'Raymon Anthony Doane']"
      ]
     },
     "execution_count": 62,
     "metadata": {},
     "output_type": "execute_result"
    }
   ],
   "source": [
    "# Candidates list\n",
    "\n",
    "candidates = pypoll['Candidate'].value_counts().keys().tolist()\n",
    "candidates\n"
   ]
  },
  {
   "cell_type": "code",
   "execution_count": 63,
   "id": "c84ce65e-41ad-410b-b49a-2ba5d6203fe6",
   "metadata": {},
   "outputs": [
    {
     "ename": "SyntaxError",
     "evalue": "unexpected EOF while parsing (3913021356.py, line 6)",
     "output_type": "error",
     "traceback": [
      "\u001b[0;36m  File \u001b[0;32m\"/var/folders/nb/349wvybs4q78vd9dwqkvglj00000gn/T/ipykernel_65611/3913021356.py\"\u001b[0;36m, line \u001b[0;32m6\u001b[0m\n\u001b[0;31m    \u001b[0m\n\u001b[0m    ^\u001b[0m\n\u001b[0;31mSyntaxError\u001b[0m\u001b[0;31m:\u001b[0m unexpected EOF while parsing\n"
     ]
    }
   ],
   "source": [
    "# Vote count list\n",
    "\n",
    "vote_count = pypoll['Candidate'].value_counts().tolist()\n",
    "vote_count\n"
   ]
  },
  {
   "cell_type": "code",
   "execution_count": 59,
   "id": "7d61d22b-172e-406d-add6-ee9b455db20d",
   "metadata": {},
   "outputs": [
    {
     "data": {
      "text/plain": [
       "[0.7381224794501652, 0.2304854332167558, 0.03139208733307908]"
      ]
     },
     "execution_count": 59,
     "metadata": {},
     "output_type": "execute_result"
    }
   ],
   "source": [
    "# Vote percent by candidate \n",
    "\n",
    "vote_count_percent = pypoll['Candidate'].value_counts(normalize=True).tolist()\n",
    "vote_count_percent"
   ]
  },
  {
   "cell_type": "code",
   "execution_count": 89,
   "id": "2a6acfb1-ae5a-473c-bc43-67c4ccf559bc",
   "metadata": {},
   "outputs": [
    {
     "name": "stdout",
     "output_type": "stream",
     "text": [
      "Election Results\n",
      "----------------\n",
      "Total Votes: 369711\n",
      "----------------\n",
      "Diana DeGette: 73.812% (272892)\n",
      "Charles Casper Stockham: 23.049% (85213)\n",
      "Raymon Anthony Doane: 3.139% (11606)\n",
      "----------------\n",
      "Winner: Diana DeGette\n"
     ]
    }
   ],
   "source": [
    "print(\"Election Results\")\n",
    "print(\"----------------\")\n",
    "print(\"Total Votes: \" + str(total_votes))\n",
    "print(\"----------------\")\n",
    "print(candidates[0] + \": \" + str(round(vote_count_percent[0]*100,3)) + \"% (\" + str(vote_count[0]) + \")\")\n",
    "print(candidates[1] + \": \" + str(round(vote_count_percent[1]*100,3)) + \"% (\" + str(vote_count[1]) + \")\")\n",
    "print(candidates[2] + \": \" + str(round(vote_count_percent[2]*100,3)) + \"% (\" + str(vote_count[2]) + \")\")\n",
    "print(\"----------------\")\n",
    "print(\"Winner: \" + candidates[0])\n",
    "\n",
    "\n",
    "\n",
    "\n",
    "\n",
    "\n",
    "\n",
    "\n",
    "\n"
   ]
  },
  {
   "cell_type": "code",
   "execution_count": 106,
   "id": "74151eff-caac-43be-806d-f2977d112638",
   "metadata": {},
   "outputs": [],
   "source": [
    "open('election_analysis.txt', 'x')\n",
    "with open ('election_analysis.txt', 'w') as text: \n",
    "    text.write(\"Election Results\\n\")\n",
    "    text.write(\"------------------\\n\")\n",
    "    text.write(\"Total Votes: \" + str(total_votes))\n",
    "    text.write(\"\\n------------------\\n\")\n",
    "    text.write(candidates[0] + \": \" + str(round(vote_count_percent[0]*100,3)) + \"% (\" + str(vote_count[0]) + \")\" + '\\n')\n",
    "    text.write(candidates[1] + \": \" + str(round(vote_count_percent[1]*100,3)) + \"% (\" + str(vote_count[1]) + \")\" + '\\n')\n",
    "    text.write(candidates[2] + \": \" + str(round(vote_count_percent[2]*100,3)) + \"% (\" + str(vote_count[2]) + \")\" + '\\n')\n",
    "    text.write(\"----------------\\n\")\n",
    "    text.write(\"Winner: \" + candidates[0]+ '\\n')\n",
    "    text.write(\"----------------\\n\")\n",
    "\n"
   ]
  },
  {
   "cell_type": "code",
   "execution_count": null,
   "id": "2cc16da5-696b-4f5b-808e-a66197da4cc8",
   "metadata": {},
   "outputs": [],
   "source": []
  },
  {
   "cell_type": "code",
   "execution_count": null,
   "id": "a5a492a4-7677-4f4a-ba19-139624aa6eb3",
   "metadata": {},
   "outputs": [],
   "source": []
  }
 ],
 "metadata": {
  "kernelspec": {
   "display_name": "Python 3 (ipykernel)",
   "language": "python",
   "name": "python3"
  },
  "language_info": {
   "codemirror_mode": {
    "name": "ipython",
    "version": 3
   },
   "file_extension": ".py",
   "mimetype": "text/x-python",
   "name": "python",
   "nbconvert_exporter": "python",
   "pygments_lexer": "ipython3",
   "version": "3.9.13"
  }
 },
 "nbformat": 4,
 "nbformat_minor": 5
}
