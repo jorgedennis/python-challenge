{
 "cells": [
  {
   "cell_type": "code",
   "execution_count": 2,
   "id": "531855db-bbeb-4fc0-abb9-fa85a4584af5",
   "metadata": {},
   "outputs": [],
   "source": [
    "import pandas as pd"
   ]
  },
  {
   "cell_type": "code",
   "execution_count": 129,
   "id": "28c00f21-1a5d-475a-81a9-efe203a7234e",
   "metadata": {},
   "outputs": [
    {
     "data": {
      "text/html": [
       "<div>\n",
       "<style scoped>\n",
       "    .dataframe tbody tr th:only-of-type {\n",
       "        vertical-align: middle;\n",
       "    }\n",
       "\n",
       "    .dataframe tbody tr th {\n",
       "        vertical-align: top;\n",
       "    }\n",
       "\n",
       "    .dataframe thead th {\n",
       "        text-align: right;\n",
       "    }\n",
       "</style>\n",
       "<table border=\"1\" class=\"dataframe\">\n",
       "  <thead>\n",
       "    <tr style=\"text-align: right;\">\n",
       "      <th></th>\n",
       "      <th>Date</th>\n",
       "      <th>Profit/Losses</th>\n",
       "    </tr>\n",
       "  </thead>\n",
       "  <tbody>\n",
       "    <tr>\n",
       "      <th>0</th>\n",
       "      <td>Jan-10</td>\n",
       "      <td>1088983</td>\n",
       "    </tr>\n",
       "    <tr>\n",
       "      <th>1</th>\n",
       "      <td>Feb-10</td>\n",
       "      <td>-354534</td>\n",
       "    </tr>\n",
       "    <tr>\n",
       "      <th>2</th>\n",
       "      <td>Mar-10</td>\n",
       "      <td>276622</td>\n",
       "    </tr>\n",
       "    <tr>\n",
       "      <th>3</th>\n",
       "      <td>Apr-10</td>\n",
       "      <td>-728133</td>\n",
       "    </tr>\n",
       "    <tr>\n",
       "      <th>4</th>\n",
       "      <td>May-10</td>\n",
       "      <td>852993</td>\n",
       "    </tr>\n",
       "    <tr>\n",
       "      <th>...</th>\n",
       "      <td>...</td>\n",
       "      <td>...</td>\n",
       "    </tr>\n",
       "    <tr>\n",
       "      <th>81</th>\n",
       "      <td>Oct-16</td>\n",
       "      <td>-729004</td>\n",
       "    </tr>\n",
       "    <tr>\n",
       "      <th>82</th>\n",
       "      <td>Nov-16</td>\n",
       "      <td>-112209</td>\n",
       "    </tr>\n",
       "    <tr>\n",
       "      <th>83</th>\n",
       "      <td>Dec-16</td>\n",
       "      <td>516313</td>\n",
       "    </tr>\n",
       "    <tr>\n",
       "      <th>84</th>\n",
       "      <td>Jan-17</td>\n",
       "      <td>607208</td>\n",
       "    </tr>\n",
       "    <tr>\n",
       "      <th>85</th>\n",
       "      <td>Feb-17</td>\n",
       "      <td>382539</td>\n",
       "    </tr>\n",
       "  </tbody>\n",
       "</table>\n",
       "<p>86 rows × 2 columns</p>\n",
       "</div>"
      ],
      "text/plain": [
       "      Date  Profit/Losses\n",
       "0   Jan-10        1088983\n",
       "1   Feb-10        -354534\n",
       "2   Mar-10         276622\n",
       "3   Apr-10        -728133\n",
       "4   May-10         852993\n",
       "..     ...            ...\n",
       "81  Oct-16        -729004\n",
       "82  Nov-16        -112209\n",
       "83  Dec-16         516313\n",
       "84  Jan-17         607208\n",
       "85  Feb-17         382539\n",
       "\n",
       "[86 rows x 2 columns]"
      ]
     },
     "execution_count": 129,
     "metadata": {},
     "output_type": "execute_result"
    }
   ],
   "source": [
    "pybank = pd.read_csv('/Users/jorgedennis/Downloads/python-challenge/PyBank/Resources/budget_data.csv')\n",
    "pybank\n"
   ]
  },
  {
   "cell_type": "code",
   "execution_count": 110,
   "id": "9ecfbec7-f45d-4401-8d8c-e492fd591edd",
   "metadata": {},
   "outputs": [
    {
     "data": {
      "text/plain": [
       "86"
      ]
     },
     "execution_count": 110,
     "metadata": {},
     "output_type": "execute_result"
    }
   ],
   "source": [
    "months = pybank.shape[0]\n",
    "months\n"
   ]
  },
  {
   "cell_type": "code",
   "execution_count": 62,
   "id": "07c63ab0-1353-4ab2-a14e-9e3eaa37be50",
   "metadata": {},
   "outputs": [
    {
     "data": {
      "text/plain": [
       "22564198"
      ]
     },
     "execution_count": 62,
     "metadata": {},
     "output_type": "execute_result"
    }
   ],
   "source": [
    "net_total = pybank['Profit/Losses'].sum()\n",
    "net_total"
   ]
  },
  {
   "cell_type": "code",
   "execution_count": 156,
   "id": "cf357731-dccb-4fc8-a70e-3c5602301802",
   "metadata": {},
   "outputs": [
    {
     "data": {
      "text/plain": [
       "-8311.1"
      ]
     },
     "execution_count": 156,
     "metadata": {},
     "output_type": "execute_result"
    }
   ],
   "source": [
    "# Find average change\n",
    "\n",
    "pybank['Shifted P/L'] = pybank['Profit/Losses'].shift(1)\n",
    "pybank['Change'] = pybank['Profit/Losses'] - pybank['Shifted P/L']\n",
    "average_change = pybank['Change'].mean()\n",
    "average_rounded = round(pybank['Change'].mean(),1)\n",
    "average_rounded\n"
   ]
  },
  {
   "cell_type": "code",
   "execution_count": 138,
   "id": "36296cf9-c94f-48f2-9397-9caa5565ed66",
   "metadata": {},
   "outputs": [
    {
     "data": {
      "text/plain": [
       "1862002.0"
      ]
     },
     "execution_count": 138,
     "metadata": {},
     "output_type": "execute_result"
    }
   ],
   "source": [
    "# Find biggest increase\n",
    "\n",
    "biggest_increase = pybank['Change'].max()\n",
    "biggest_increase"
   ]
  },
  {
   "cell_type": "code",
   "execution_count": 139,
   "id": "61eefe11-a076-465c-864f-af5a8200f8f8",
   "metadata": {},
   "outputs": [
    {
     "data": {
      "text/plain": [
       "-1825558.0"
      ]
     },
     "execution_count": 139,
     "metadata": {},
     "output_type": "execute_result"
    }
   ],
   "source": [
    "# Find biggest decrease\n",
    "\n",
    "biggest_loss = pybank['Change'].min()\n",
    "biggest_loss\n"
   ]
  },
  {
   "cell_type": "code",
   "execution_count": 140,
   "id": "90cc18f7-cbb4-4db7-bd14-5d78ff5123cb",
   "metadata": {},
   "outputs": [
    {
     "data": {
      "text/plain": [
       "79    Aug-16\n",
       "Name: Date, dtype: object"
      ]
     },
     "execution_count": 140,
     "metadata": {},
     "output_type": "execute_result"
    }
   ],
   "source": [
    "# Find maximum value date\n",
    "\n",
    "biggest_increase_date = pybank.loc[pybank['Change'] == biggest_increase, 'Date']\n",
    "biggest_increase_date"
   ]
  },
  {
   "cell_type": "code",
   "execution_count": 143,
   "id": "1308870d-1b53-46a4-b37f-094e5fbe2764",
   "metadata": {},
   "outputs": [
    {
     "data": {
      "text/plain": [
       "49    Feb-14\n",
       "Name: Date, dtype: object"
      ]
     },
     "execution_count": 143,
     "metadata": {},
     "output_type": "execute_result"
    }
   ],
   "source": [
    "# Find biggest increase date\n",
    "\n",
    "\n",
    "biggest_loss_date = pybank.loc[pybank['Change'] == biggest_loss, 'Date']\n",
    "biggest_loss_date"
   ]
  },
  {
   "cell_type": "code",
   "execution_count": 146,
   "id": "a30230de-e56a-4b5c-8654-ba2b3e9869b4",
   "metadata": {},
   "outputs": [
    {
     "data": {
      "text/plain": [
       "'Dec-10'"
      ]
     },
     "execution_count": 146,
     "metadata": {},
     "output_type": "execute_result"
    }
   ],
   "source": [
    "# Find biggest decrease date value\n",
    "\n",
    "biggest_loss_date = pybank.iat[11, 0]\n",
    "biggest_loss_date "
   ]
  },
  {
   "cell_type": "code",
   "execution_count": 145,
   "id": "fb3350ca-0678-479b-b2ba-72f3cb55877a",
   "metadata": {},
   "outputs": [
    {
     "data": {
      "text/plain": [
       "'Mar-13'"
      ]
     },
     "execution_count": 145,
     "metadata": {},
     "output_type": "execute_result"
    }
   ],
   "source": [
    "# Find maximum value date value\n",
    "\n",
    "biggest_increase_date = pybank.iat[38, 0]\n",
    "biggest_increase_date"
   ]
  },
  {
   "cell_type": "code",
   "execution_count": 157,
   "id": "e46c4cbd-197c-4fcc-9eae-bb08cd7a9203",
   "metadata": {},
   "outputs": [
    {
     "name": "stdout",
     "output_type": "stream",
     "text": [
      "Financial Analysis\n",
      "------------------\n",
      "Total Months: 86\n",
      "Total: $22564198\n",
      "Average Change: $-8311.1\n",
      "Greatest Increase in Profits: Mar-13 ($1862002.0)\n",
      "Greatest Decrease in Profits: Dec-10 ($-1825558.0)\n"
     ]
    }
   ],
   "source": [
    "print(\"Financial Analysis\")\n",
    "print(\"------------------\")\n",
    "print(\"Total Months: \" + str(months))\n",
    "print(\"Total: \" + \"$\" + str(net_total))\n",
    "print(\"Average Change: \" + \"$\" + str(average_rounded))\n",
    "print(\"Greatest Increase in Profits: \" + biggest_increase_date + \" ($\" + str(biggest_increase)+ \")\")\n",
    "print(\"Greatest Decrease in Profits: \" + biggest_loss_date + \" ($\" + str(biggest_loss) + \")\")\n",
    "\n",
    "\n",
    "\n",
    "\n"
   ]
  },
  {
   "cell_type": "code",
   "execution_count": 176,
   "id": "c0189b6e-013e-493d-834f-8a8b299daf61",
   "metadata": {},
   "outputs": [],
   "source": [
    "open('financial_analysis.txt', 'x')\n",
    "with open ('financial_analysis.txt', 'w') as text: \n",
    "    text.write(\"Financial Analysis\\n\")\n",
    "    text.write(\"------------------\\n\")\n",
    "    text.write(\"\\n Total Months: \" + str(months))\n",
    "    text.write(\"\\n Total: \" + \"$\" + str(net_total))\n",
    "    text.write(\"\\n Average Change: \" + \"$\" + str(average_rounded))\n",
    "    text.write(\"\\n Greatest Increase in Profits: \" + biggest_increase_date + \" ($\" + str(biggest_increase)+ \")\")\n",
    "    text.write(\"\\n Greatest Decrease in Profits: \" + biggest_loss_date + \" ($\" + str(biggest_loss) + \")\")\n",
    "\n"
   ]
  },
  {
   "cell_type": "code",
   "execution_count": null,
   "id": "55e02893-ca26-4ab8-b740-7552baea97e3",
   "metadata": {},
   "outputs": [],
   "source": []
  },
  {
   "cell_type": "code",
   "execution_count": null,
   "id": "07165f67-f0ec-4d04-939c-94a82c324c5e",
   "metadata": {},
   "outputs": [],
   "source": []
  }
 ],
 "metadata": {
  "kernelspec": {
   "display_name": "Python 3 (ipykernel)",
   "language": "python",
   "name": "python3"
  },
  "language_info": {
   "codemirror_mode": {
    "name": "ipython",
    "version": 3
   },
   "file_extension": ".py",
   "mimetype": "text/x-python",
   "name": "python",
   "nbconvert_exporter": "python",
   "pygments_lexer": "ipython3",
   "version": "3.9.13"
  }
 },
 "nbformat": 4,
 "nbformat_minor": 5
}
